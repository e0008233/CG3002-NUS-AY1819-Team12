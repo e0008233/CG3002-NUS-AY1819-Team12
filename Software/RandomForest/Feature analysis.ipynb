{
 "cells": [
  {
   "cell_type": "code",
   "execution_count": 36,
   "metadata": {},
   "outputs": [
    {
     "name": "stdout",
     "output_type": "stream",
     "text": [
      "['wipers', 'number7', 'chicken', 'sidestep', 'turnclap']\n",
      "C:\\Users\\Administrator\\CG3002\\Software\\Data\n"
     ]
    }
   ],
   "source": [
    "import pandas as pd\n",
    "import numpy as np\n",
    "from scipy.fftpack import fft\n",
    "from pathlib import Path\n",
    "import os\n",
    "\n",
    "from pathlib import Path\n",
    "from sklearn.cross_validation import cross_val_score\n",
    "from sklearn.externals import joblib\n",
    "from sklearn.ensemble import RandomForestClassifier\n",
    "from sklearn.metrics import accuracy_score\n",
    "import time\n",
    "from sklearn.metrics import classification_report\n",
    "from sklearn.metrics import confusion_matrix\n",
    "\n",
    "path = str(Path().resolve())+'\\Data'\n",
    "activityList = ['Wipers','Number7','Chicken', 'SideStep', 'Turnclap']\n",
    "activityList_lower = [activity.lower() for activity in activityList]\n",
    "\n",
    "print(activityList_lower)\n",
    "print(path)"
   ]
  },
  {
   "cell_type": "code",
   "execution_count": 37,
   "metadata": {},
   "outputs": [],
   "source": [
    "def normalize_val(num, min_value, max_value):\n",
    "    if min_value < max_value:\n",
    "        return (num - min_value) / (max_value - min_value)\n",
    "    if min_value > 0:\n",
    "        return min_value / (min_value + 1)\n",
    "    return min_value / (min_value - 1)"
   ]
  },
  {
   "cell_type": "code",
   "execution_count": 38,
   "metadata": {},
   "outputs": [
    {
     "name": "stdout",
     "output_type": "stream",
     "text": [
      "Number of features: 72\n",
      "Number of observations in the training data: 1016\n",
      "Number of observations in the test data: 339\n",
      "The classifier is good and average score for training is 0.987017825311943 . \n",
      "-------------------\n",
      "Accuracy for RandomForest: 100.0\n",
      "             precision    recall  f1-score   support\n",
      "\n",
      "    chicken       1.00      1.00      1.00       100\n",
      "    number7       1.00      1.00      1.00        47\n",
      "   sidestep       1.00      1.00      1.00        80\n",
      "   turnclap       1.00      1.00      1.00        57\n",
      "     wipers       1.00      1.00      1.00        55\n",
      "\n",
      "avg / total       1.00      1.00      1.00       339\n",
      "\n",
      "[[100   0   0]\n",
      " [  0  47   0]\n",
      " [  0   0  80]]\n",
      "processing time of the model is:  3.9271103684768605\n"
     ]
    }
   ],
   "source": [
    "np.random.seed(5)\n",
    "start = time.clock()\n",
    "path = path + '\\\\' + 'combinedFeatureDataCSV_Arduino.csv'\n",
    "f = open(path)\n",
    "df = pd.read_csv(f)\n",
    "df.dropna(how = 'any',inplace=True)\n",
    "\n",
    "features_name = df.columns[1:len(df)]\n",
    "print('Number of features:',len(features_name))\n",
    "d = np.random.uniform(0, 1, len(df))\n",
    "p = np.percentile(d, 75)\n",
    "df['is_train'] = d <= p\n",
    "train, test = df[df['is_train']==True], df[df['is_train']==False]\n",
    "print('Number of observations in the training data:', len(train))\n",
    "print('Number of observations in the test data:',len(test))\n",
    "\n",
    "train_label = pd.factorize(train['Activity'],sort=True)[0]\n",
    "test_label,test_uni = pd.factorize(test['Activity'],sort=True)\n",
    "\n",
    "clf = RandomForestClassifier(n_estimators =50, max_features = 'sqrt', n_jobs=2, min_samples_leaf = 1,criterion = 'entropy')\n",
    "averageScore = np.mean(cross_val_score(clf, train[features_name], train_label, cv=10))\n",
    "if (averageScore>0.95):\n",
    "    print (\"The classifier is good and average score for training is %s . \" % averageScore)\n",
    "else:\n",
    "    if (averageScore<0.9):\n",
    "        print (\"The classifier is not bad and average score for training is %s . \" % averageScore)\n",
    "    else:\n",
    "        print (\"The classifier needs to be improved  and average score for training is %s . \" % averageScore)\n",
    "model = clf.fit(train[features_name],train_label)\n",
    "test_predict = clf.predict(test[features_name])\n",
    "\n",
    "# 10-Fold Cross validation\n",
    "\n",
    "print (\"-------------------\")\n",
    "print(\"Accuracy for RandomForest:\", (accuracy_score(test_predict, test_label))*100)\n",
    "accuracy = accuracy_score(test_predict, test_label)\n",
    "\n",
    "print(classification_report(test_predict, test_label, target_names=test_uni))\n",
    "print (confusion_matrix(test_label, test_predict,labels = [0,1,2]))\n",
    "# joblib.dump(clf, 'RandomForest_Arduino.pkl')ni\n",
    "joblib.dump(clf, 'RandomForest_Arduino.pkl')\n",
    "end = time.clock()\n",
    "print (\"processing time of the model is: \",end - start)"
   ]
  },
  {
   "cell_type": "code",
   "execution_count": 39,
   "metadata": {},
   "outputs": [
    {
     "name": "stdout",
     "output_type": "stream",
     "text": [
      "name                     score\n",
      "gyro_leg_x_std     0.0741922\n",
      "gyro_rh_z_iqr      0.0703703\n",
      "gyro_lh_x_std      0.0527983\n",
      "gyro_lh_y_mean     0.0526272\n",
      "gyro_rh_x_std      0.0476495\n",
      "gryo_leg_z_std     0.0468052\n",
      "gyro_lh_z_std      0.0450084\n",
      "gyro_rh_z_std      0.0447891\n",
      "gryo_leg_y_std     0.0416785\n",
      "gyro_lh_y_median   0.0405052\n",
      "gryo_leg_y_iqr     0.0400808\n",
      "gyro_lh_x_iqr      0.0369241\n",
      "gyro_rh_z_median   0.0321293\n",
      "gyro_lh_y_std      0.0309595\n",
      "gyro_rh_y_iqr      0.0298038\n",
      "gyro_leg_x_iqr     0.025386\n",
      "gyro_lh_y_iqr      0.0249019\n",
      "gyro_lh_z_iqr      0.0213912\n",
      "acc_lh_x_median    0.0198071\n",
      "gryo_leg_y_median  0.0156176\n",
      "gryo_leg_z_iqr     0.0150929\n",
      "gyro_rh_y_std      0.0101394\n",
      "acc_rh_x_median    0.0094088\n",
      "gryo_leg_y_mean    0.00918386\n",
      "gyro_rh_x_iqr      0.00828486\n",
      "acc_rh_y_mean      0.00781857\n",
      "gyro_lh_x_mean     0.00695236\n",
      "acc_leg_y_mean     0.00655641\n",
      "gyro_rh_y_mean     0.00640032\n",
      "gyro_leg_x_mean    0.006008\n",
      "acc_lh_z_median    0.00587\n",
      "acc_leg_x_median   0.00537755\n",
      "gyro_lh_z_median   0.00521665\n",
      "gyro_rh_x_median   0.00488146\n",
      "gyro_lh_z_mean     0.00482754\n",
      "acc_lh_x_mean      0.00476186\n",
      "acc_leg_z_mean     0.00454859\n",
      "gryo_leg_z_mean    0.00450341\n",
      "gyro_rh_z_mean     0.00418317\n",
      "gyro_rh_x_mean     0.00396901\n",
      "acc_rh_x_mean      0.00391978\n",
      "gyro_leg_x_median  0.00385549\n",
      "acc_leg_z_iqr      0.00363626\n",
      "acc_lh_z_mean      0.00346636\n",
      "acc_leg_x_mean     0.00331805\n",
      "acc_rh_z_median    0.00331549\n",
      "gyro_lh_x_median   0.00315564\n",
      "acc_lh_y_iqr       0.00312057\n",
      "gryo_leg_z_median  0.00310788\n",
      "acc_leg_y_median   0.0028246\n",
      "acc_lh_y_median    0.00273331\n",
      "acc_lh_z_iqr       0.00264066\n",
      "acc_lh_y_mean      0.0026395\n",
      "acc_rh_y_std       0.00246781\n",
      "gyro_rh_y_median   0.00239715\n",
      "acc_leg_x_std      0.00238267\n",
      "acc_leg_z_median   0.00234251\n",
      "acc_rh_x_iqr       0.00226829\n",
      "acc_leg_y_std      0.00208516\n",
      "acc_leg_z_std      0.00197197\n",
      "acc_lh_y_std       0.00172673\n",
      "acc_rh_y_iqr       0.00170827\n",
      "acc_rh_x_std       0.0015624\n",
      "acc_lh_z_std       0.00152396\n",
      "acc_lh_x_std       0.00140017\n",
      "acc_lh_x_iqr       0.00120619\n",
      "acc_rh_z_mean      0.00118453\n",
      "acc_rh_z_std       0.00105268\n",
      "acc_rh_y_median    0.00102755\n",
      "acc_leg_y_iqr      0.000901183\n",
      "acc_leg_x_iqr      0.00090048\n",
      "acc_rh_z_iqr       0.000746824\n"
     ]
    }
   ],
   "source": [
    "from tabulate import tabulate\n",
    "\n",
    "headers = [\"name\", \"score\"]\n",
    "values = sorted(zip(train[features_name].columns, model.feature_importances_), key=lambda x: x[1] * -1)\n",
    "print(tabulate(values, headers, tablefmt=\"plain\"))"
   ]
  },
  {
   "cell_type": "code",
   "execution_count": 44,
   "metadata": {},
   "outputs": [
    {
     "data": {
      "text/plain": [
       "array([[0.11564, 0.11529, 0.11583, ..., 0.1477 , 0.30568, 0.39127],\n",
       "       [0.21709, 0.21652, 0.21659, ..., 0.19935, 0.47837, 0.6417 ],\n",
       "       [0.07783, 0.07695, 0.07739, ..., 0.05419, 0.28555, 0.4633 ],\n",
       "       ...,\n",
       "       [0.09475, 0.09538, 0.09588, ..., 0.16796, 0.38523, 0.62628],\n",
       "       [0.03771, 0.0384 , 0.03903, ..., 0.06307, 0.36586, 0.65889],\n",
       "       [0.0504 , 0.05097, 0.05158, ..., 0.05898, 0.38728, 0.69876]])"
      ]
     },
     "execution_count": 44,
     "metadata": {},
     "output_type": "execute_result"
    }
   ],
   "source": [
    "from sklearn.feature_selection import VarianceThreshold\n",
    "sel = VarianceThreshold()\n",
    "sel.fit_transform(train[features_name])"
   ]
  },
  {
   "cell_type": "code",
   "execution_count": 43,
   "metadata": {},
   "outputs": [
    {
     "name": "stdout",
     "output_type": "stream",
     "text": [
      "Mean score is 5.413159924444707\n",
      "Std score is 7.256040725090024\n",
      "Median score is 5.28334216270967\n",
      "Iqr score is 6.540685798603574\n"
     ]
    }
   ],
   "source": [
    "from sklearn.feature_selection import mutual_info_classif\n",
    "\n",
    "feature_scores = mutual_info_classif(train[features_name], train_label)\n",
    "Mean_score = 0\n",
    "Std_score = 0\n",
    "Median_score = 0\n",
    "Iqr_score = 0\n",
    "for score, fname in sorted(zip(feature_scores, features_name), reverse=True)[:]:\n",
    "    if (fname.find(\"iqr\")!= -1):\n",
    "        Iqr_score = Iqr_score + score\n",
    "    if (fname.find(\"mean\")!= -1):\n",
    "        Mean_score = Mean_score + score\n",
    "    if (fname.find(\"median\")!= -1):\n",
    "        Median_score = Median_score + score\n",
    "    if (fname.find(\"std\")!= -1):\n",
    "        Std_score = Std_score + score\n",
    "print (\"Mean score is \"+ str(Mean_score))\n",
    "print (\"Std score is \"+ str(Std_score))\n",
    "print (\"Median score is \"+ str(Median_score))\n",
    "print (\"Iqr score is \"+ str(Iqr_score))"
   ]
  },
  {
   "cell_type": "code",
   "execution_count": 66,
   "metadata": {},
   "outputs": [
    {
     "data": {
      "image/png": "[encoded data removed]",
      "text/plain": [
       "<Figure size 432x288 with 1 Axes>"
      ]
     },
     "metadata": {},
     "output_type": "display_data"
    }
   ],
   "source": [
    "import matplotlib.pyplot as plt\n",
    "from sklearn.svm import SVC\n",
    "from sklearn.model_selection import StratifiedKFold\n",
    "from sklearn.feature_selection import RFECV\n",
    "from sklearn.datasets import make_classification\n",
    "\n",
    "# Build a classification task using 3 informative features\n",
    "X = train[features_name]\n",
    "y =train_label\n",
    "\n",
    "# Create the RFE object and compute a cross-validated score.\n",
    "svc = SVC(kernel=\"linear\")\n",
    "# The \"accuracy\" scoring is proportional to the number of correct\n",
    "# classifications\n",
    "rfecv = RFECV(estimator=svc, step=1, cv=StratifiedKFold(2),\n",
    "              scoring='accuracy')\n",
    "rfecv.fit(X, y)\n",
    "\n",
    "# Plot number of features VS. cross-validation scores\n",
    "plt.figure()\n",
    "plt.xlabel(\"Number of features selected\")\n",
    "plt.ylabel(\"Cross validation score (nb of correct classifications)\")\n",
    "plt.plot(range(1, len(rfecv.grid_scores_) + 1), rfecv.grid_scores_)\n",
    "plt.show()"
   ]
  },
  {
   "cell_type": "code",
   "execution_count": null,
   "metadata": {},
   "outputs": [],
   "source": []
  }
 ],
 "metadata": {
  "kernelspec": {
   "display_name": "Python 3",
   "language": "python",
   "name": "python3"
  },
  "language_info": {
   "codemirror_mode": {
    "name": "ipython",
    "version": 3
   },
   "file_extension": ".py",
   "mimetype": "text/x-python",
   "name": "python",
   "nbconvert_exporter": "python",
   "pygments_lexer": "ipython3",
   "version": "3.6.5"
  }
 },
 "nbformat": 4,
 "nbformat_minor": 2
}
